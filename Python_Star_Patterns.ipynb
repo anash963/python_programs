{
 "cells": [
  {
   "cell_type": "code",
   "execution_count": 65,
   "metadata": {},
   "outputs": [
    {
     "name": "stdout",
     "output_type": "stream",
     "text": [
      "*****\n",
      "*****\n",
      "*****\n",
      "*****\n",
      "*****\n"
     ]
    }
   ],
   "source": [
    "#1.\n",
    "\n",
    "#*****\n",
    "#*****\n",
    "#*****\n",
    "#*****\n",
    "#*****\n",
    "\n",
    "\n",
    "def func_star__left_triangle(n):\n",
    "    \n",
    "    for i in range(1,n+1):\n",
    "        print(\"*\"*(n))\n",
    "        \n",
    "func_star__left_triangle(5)"
   ]
  },
  {
   "cell_type": "code",
   "execution_count": 42,
   "metadata": {},
   "outputs": [
    {
     "name": "stdout",
     "output_type": "stream",
     "text": [
      "    *\n",
      "   **\n",
      "  ***\n",
      " ****\n",
      "*****\n"
     ]
    }
   ],
   "source": [
    "#2.\n",
    "\n",
    "#        * \n",
    "#      * * \n",
    "#    * * * \n",
    "#  * * * * \n",
    "#* * * * * \n",
    "\n",
    "def func_star__left_triangle(n):\n",
    "    \n",
    "    for i in range(1,n+1):\n",
    "        print(\" \"*(n-i)+ '*'*(i))\n",
    "        \n",
    "func_star__left_triangle(5)"
   ]
  },
  {
   "cell_type": "code",
   "execution_count": 49,
   "metadata": {},
   "outputs": [
    {
     "name": "stdout",
     "output_type": "stream",
     "text": [
      "    * \n",
      "   * * \n",
      "  * * * \n",
      " * * * * \n",
      "* * * * * \n"
     ]
    }
   ],
   "source": [
    "#3.\n",
    "\n",
    "#    * \n",
    "#   * * \n",
    "#  * * * \n",
    "# * * * * \n",
    "#* * * * * \n",
    "\n",
    "\n",
    "def func_star__left_triangle(n):\n",
    "    \n",
    "    for i in range(1,n+1):\n",
    "        print(\" \"*(n-i)+ '* '*(i))\n",
    "        \n",
    "func_star__left_triangle(5)"
   ]
  },
  {
   "cell_type": "code",
   "execution_count": 51,
   "metadata": {},
   "outputs": [
    {
     "name": "stdout",
     "output_type": "stream",
     "text": [
      "*\n",
      "**\n",
      "***\n",
      "****\n",
      "*****\n"
     ]
    }
   ],
   "source": [
    "#4.\n",
    "\n",
    "#*\n",
    "#**\n",
    "#***\n",
    "#****\n",
    "#*****\n",
    "\n",
    "\n",
    "def func_star__left_triangle(n):\n",
    "    \n",
    "    for i in range(1,n+1):\n",
    "        print(\"\"*(n-i)+ '*'*(i))\n",
    "        \n",
    "func_star__left_triangle(5)"
   ]
  },
  {
   "cell_type": "code",
   "execution_count": 53,
   "metadata": {},
   "outputs": [
    {
     "name": "stdout",
     "output_type": "stream",
     "text": [
      "    * \n",
      "   * * \n",
      "  * * * \n",
      " * * * * \n",
      "* * * * * \n",
      " * * * * \n",
      "  * * * \n",
      "   * * \n",
      "    * \n"
     ]
    }
   ],
   "source": [
    "#5.\n",
    "\n",
    "#    * \n",
    "#   * * \n",
    "#  * * * \n",
    "# * * * * \n",
    "#* * * * * \n",
    "# * * * * \n",
    "#  * * * \n",
    "#   * * \n",
    "#    * \n",
    "\n",
    "\n",
    "def func_star__left_triangle(n):\n",
    "    \n",
    "    for i in range(1,n+1):\n",
    "        print(\" \"*(n-i)+ '* '*(i))\n",
    "        \n",
    "    for i in range(n-1,0,-1):\n",
    "        print(\" \"*(n-i)+ '* '*(i))\n",
    "        \n",
    "func_star__left_triangle(5)"
   ]
  },
  {
   "cell_type": "code",
   "execution_count": 55,
   "metadata": {},
   "outputs": [
    {
     "name": "stdout",
     "output_type": "stream",
     "text": [
      "* * * * * \n",
      " * * * * \n",
      "  * * * \n",
      "   * * \n",
      "    * \n"
     ]
    }
   ],
   "source": [
    "#6.\n",
    "\n",
    "#* * * * * \n",
    "# * * * * \n",
    "#  * * * \n",
    "#   * * \n",
    "#    * \n",
    "\n",
    "\n",
    "def func_star__left_triangle(n):\n",
    "        \n",
    "    for i in range(n,0,-1):\n",
    "        print(\" \"*(n-i)+ '* '*(i))\n",
    "        \n",
    "func_star__left_triangle(5)"
   ]
  },
  {
   "cell_type": "code",
   "execution_count": 56,
   "metadata": {},
   "outputs": [
    {
     "name": "stdout",
     "output_type": "stream",
     "text": [
      "    *\n",
      "   **\n",
      "  ***\n",
      " ****\n",
      "*****\n",
      " ****\n",
      "  ***\n",
      "   **\n",
      "    *\n"
     ]
    }
   ],
   "source": [
    "#7.\n",
    "\n",
    "#    *\n",
    "#   **\n",
    "#  ***\n",
    "# ****\n",
    "#*****\n",
    "# ****\n",
    "#  ***\n",
    "#   **\n",
    "#    *\n",
    "\n",
    "def func_star__left_triangle(n):\n",
    "    \n",
    "    for i in range(1,n+1):\n",
    "        print(\" \"*(n-i)+ '*'*(i))\n",
    "        \n",
    "    for i in range(n-1,0,-1):\n",
    "        print(\" \"*(n-i)+ '*'*(i))\n",
    "        \n",
    "func_star__left_triangle(5)"
   ]
  },
  {
   "cell_type": "code",
   "execution_count": 57,
   "metadata": {},
   "outputs": [
    {
     "name": "stdout",
     "output_type": "stream",
     "text": [
      "* \n",
      "* * \n",
      "* * * \n",
      "* * * * \n",
      "* * * * * \n",
      "* * * * \n",
      "* * * \n",
      "* * \n",
      "* \n"
     ]
    }
   ],
   "source": [
    "#8.\n",
    "\n",
    "#* \n",
    "#* * \n",
    "#* * * \n",
    "#* * * * \n",
    "#* * * * * \n",
    "#* * * * \n",
    "#* * * \n",
    "#* * \n",
    "#* \n",
    "\n",
    "\n",
    "def func_star__left_triangle(n):\n",
    "    \n",
    "    for i in range(1,n+1):\n",
    "        print(\"\"*(n-i)+ '* '*(i))\n",
    "        \n",
    "    for i in range(n-1,0,-1):\n",
    "        print(\"\"*(n-i)+ '* '*(i))\n",
    "        \n",
    "func_star__left_triangle(5)"
   ]
  },
  {
   "cell_type": "code",
   "execution_count": null,
   "metadata": {},
   "outputs": [],
   "source": []
  }
 ],
 "metadata": {
  "kernelspec": {
   "display_name": "Python 3",
   "language": "python",
   "name": "python3"
  },
  "language_info": {
   "codemirror_mode": {
    "name": "ipython",
    "version": 3
   },
   "file_extension": ".py",
   "mimetype": "text/x-python",
   "name": "python",
   "nbconvert_exporter": "python",
   "pygments_lexer": "ipython3",
   "version": "3.8.2"
  }
 },
 "nbformat": 4,
 "nbformat_minor": 4
}
